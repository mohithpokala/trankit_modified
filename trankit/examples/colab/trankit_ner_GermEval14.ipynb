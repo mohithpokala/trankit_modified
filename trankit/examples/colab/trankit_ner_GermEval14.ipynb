{
  "nbformat": 4,
  "nbformat_minor": 0,
  "metadata": {
    "colab": {
      "name": "trankit-ner-GermEval14.ipynb",
      "provenance": [],
      "collapsed_sections": []
    },
    "kernelspec": {
      "name": "python3",
      "display_name": "Python 3"
    },
    "accelerator": "GPU",
    "widgets": {
      "application/vnd.jupyter.widget-state+json": {
        "12f21fc8a594408ea8baf8ab1bbe2ee3": {
          "model_module": "@jupyter-widgets/controls",
          "model_name": "HBoxModel",
          "state": {
            "_view_name": "HBoxView",
            "_dom_classes": [],
            "_model_name": "HBoxModel",
            "_view_module": "@jupyter-widgets/controls",
            "_model_module_version": "1.5.0",
            "_view_count": null,
            "_view_module_version": "1.5.0",
            "box_style": "",
            "layout": "IPY_MODEL_669126bdcec542119684d1e37511c173",
            "_model_module": "@jupyter-widgets/controls",
            "children": [
              "IPY_MODEL_5f805bc0f80942d2b7c99ec4eb4cdac9",
              "IPY_MODEL_db760a38839946188d6493b8f086aa5c"
            ]
          }
        },
        "669126bdcec542119684d1e37511c173": {
          "model_module": "@jupyter-widgets/base",
          "model_name": "LayoutModel",
          "state": {
            "_view_name": "LayoutView",
            "grid_template_rows": null,
            "right": null,
            "justify_content": null,
            "_view_module": "@jupyter-widgets/base",
            "overflow": null,
            "_model_module_version": "1.2.0",
            "_view_count": null,
            "flex_flow": null,
            "width": null,
            "min_width": null,
            "border": null,
            "align_items": null,
            "bottom": null,
            "_model_module": "@jupyter-widgets/base",
            "top": null,
            "grid_column": null,
            "overflow_y": null,
            "overflow_x": null,
            "grid_auto_flow": null,
            "grid_area": null,
            "grid_template_columns": null,
            "flex": null,
            "_model_name": "LayoutModel",
            "justify_items": null,
            "grid_row": null,
            "max_height": null,
            "align_content": null,
            "visibility": null,
            "align_self": null,
            "height": null,
            "min_height": null,
            "padding": null,
            "grid_auto_rows": null,
            "grid_gap": null,
            "max_width": null,
            "order": null,
            "_view_module_version": "1.2.0",
            "grid_template_areas": null,
            "object_position": null,
            "object_fit": null,
            "grid_auto_columns": null,
            "margin": null,
            "display": null,
            "left": null
          }
        },
        "5f805bc0f80942d2b7c99ec4eb4cdac9": {
          "model_module": "@jupyter-widgets/controls",
          "model_name": "FloatProgressModel",
          "state": {
            "_view_name": "ProgressView",
            "style": "IPY_MODEL_848e1246b33e4ad9b8ead37068ad71c4",
            "_dom_classes": [],
            "description": "Downloading: 100%",
            "_model_name": "FloatProgressModel",
            "bar_style": "success",
            "max": 5069051,
            "_view_module": "@jupyter-widgets/controls",
            "_model_module_version": "1.5.0",
            "value": 5069051,
            "_view_count": null,
            "_view_module_version": "1.5.0",
            "orientation": "horizontal",
            "min": 0,
            "description_tooltip": null,
            "_model_module": "@jupyter-widgets/controls",
            "layout": "IPY_MODEL_b10fd95ac478490288cc99c8e09895b9"
          }
        },
        "db760a38839946188d6493b8f086aa5c": {
          "model_module": "@jupyter-widgets/controls",
          "model_name": "HTMLModel",
          "state": {
            "_view_name": "HTMLView",
            "style": "IPY_MODEL_43a9e800a53d4c289c996058d24dc7cf",
            "_dom_classes": [],
            "description": "",
            "_model_name": "HTMLModel",
            "placeholder": "​",
            "_view_module": "@jupyter-widgets/controls",
            "_model_module_version": "1.5.0",
            "value": " 5.07M/5.07M [00:00&lt;00:00, 7.42MB/s]",
            "_view_count": null,
            "_view_module_version": "1.5.0",
            "description_tooltip": null,
            "_model_module": "@jupyter-widgets/controls",
            "layout": "IPY_MODEL_3268fa43f79a473abc3288fb87e3dae7"
          }
        },
        "848e1246b33e4ad9b8ead37068ad71c4": {
          "model_module": "@jupyter-widgets/controls",
          "model_name": "ProgressStyleModel",
          "state": {
            "_view_name": "StyleView",
            "_model_name": "ProgressStyleModel",
            "description_width": "initial",
            "_view_module": "@jupyter-widgets/base",
            "_model_module_version": "1.5.0",
            "_view_count": null,
            "_view_module_version": "1.2.0",
            "bar_color": null,
            "_model_module": "@jupyter-widgets/controls"
          }
        },
        "b10fd95ac478490288cc99c8e09895b9": {
          "model_module": "@jupyter-widgets/base",
          "model_name": "LayoutModel",
          "state": {
            "_view_name": "LayoutView",
            "grid_template_rows": null,
            "right": null,
            "justify_content": null,
            "_view_module": "@jupyter-widgets/base",
            "overflow": null,
            "_model_module_version": "1.2.0",
            "_view_count": null,
            "flex_flow": null,
            "width": null,
            "min_width": null,
            "border": null,
            "align_items": null,
            "bottom": null,
            "_model_module": "@jupyter-widgets/base",
            "top": null,
            "grid_column": null,
            "overflow_y": null,
            "overflow_x": null,
            "grid_auto_flow": null,
            "grid_area": null,
            "grid_template_columns": null,
            "flex": null,
            "_model_name": "LayoutModel",
            "justify_items": null,
            "grid_row": null,
            "max_height": null,
            "align_content": null,
            "visibility": null,
            "align_self": null,
            "height": null,
            "min_height": null,
            "padding": null,
            "grid_auto_rows": null,
            "grid_gap": null,
            "max_width": null,
            "order": null,
            "_view_module_version": "1.2.0",
            "grid_template_areas": null,
            "object_position": null,
            "object_fit": null,
            "grid_auto_columns": null,
            "margin": null,
            "display": null,
            "left": null
          }
        },
        "43a9e800a53d4c289c996058d24dc7cf": {
          "model_module": "@jupyter-widgets/controls",
          "model_name": "DescriptionStyleModel",
          "state": {
            "_view_name": "StyleView",
            "_model_name": "DescriptionStyleModel",
            "description_width": "",
            "_view_module": "@jupyter-widgets/base",
            "_model_module_version": "1.5.0",
            "_view_count": null,
            "_view_module_version": "1.2.0",
            "_model_module": "@jupyter-widgets/controls"
          }
        },
        "3268fa43f79a473abc3288fb87e3dae7": {
          "model_module": "@jupyter-widgets/base",
          "model_name": "LayoutModel",
          "state": {
            "_view_name": "LayoutView",
            "grid_template_rows": null,
            "right": null,
            "justify_content": null,
            "_view_module": "@jupyter-widgets/base",
            "overflow": null,
            "_model_module_version": "1.2.0",
            "_view_count": null,
            "flex_flow": null,
            "width": null,
            "min_width": null,
            "border": null,
            "align_items": null,
            "bottom": null,
            "_model_module": "@jupyter-widgets/base",
            "top": null,
            "grid_column": null,
            "overflow_y": null,
            "overflow_x": null,
            "grid_auto_flow": null,
            "grid_area": null,
            "grid_template_columns": null,
            "flex": null,
            "_model_name": "LayoutModel",
            "justify_items": null,
            "grid_row": null,
            "max_height": null,
            "align_content": null,
            "visibility": null,
            "align_self": null,
            "height": null,
            "min_height": null,
            "padding": null,
            "grid_auto_rows": null,
            "grid_gap": null,
            "max_width": null,
            "order": null,
            "_view_module_version": "1.2.0",
            "grid_template_areas": null,
            "object_position": null,
            "object_fit": null,
            "grid_auto_columns": null,
            "margin": null,
            "display": null,
            "left": null
          }
        },
        "f7a11f7039794ffea893026d3d03e954": {
          "model_module": "@jupyter-widgets/controls",
          "model_name": "HBoxModel",
          "state": {
            "_view_name": "HBoxView",
            "_dom_classes": [],
            "_model_name": "HBoxModel",
            "_view_module": "@jupyter-widgets/controls",
            "_model_module_version": "1.5.0",
            "_view_count": null,
            "_view_module_version": "1.5.0",
            "box_style": "",
            "layout": "IPY_MODEL_df49b575376848d280fde0c2a57d2f3a",
            "_model_module": "@jupyter-widgets/controls",
            "children": [
              "IPY_MODEL_1d42bed7eaec4bf18b63515e75a8c4dc",
              "IPY_MODEL_8244c6cb3f5746a681e809752bf460f1"
            ]
          }
        },
        "df49b575376848d280fde0c2a57d2f3a": {
          "model_module": "@jupyter-widgets/base",
          "model_name": "LayoutModel",
          "state": {
            "_view_name": "LayoutView",
            "grid_template_rows": null,
            "right": null,
            "justify_content": null,
            "_view_module": "@jupyter-widgets/base",
            "overflow": null,
            "_model_module_version": "1.2.0",
            "_view_count": null,
            "flex_flow": null,
            "width": null,
            "min_width": null,
            "border": null,
            "align_items": null,
            "bottom": null,
            "_model_module": "@jupyter-widgets/base",
            "top": null,
            "grid_column": null,
            "overflow_y": null,
            "overflow_x": null,
            "grid_auto_flow": null,
            "grid_area": null,
            "grid_template_columns": null,
            "flex": null,
            "_model_name": "LayoutModel",
            "justify_items": null,
            "grid_row": null,
            "max_height": null,
            "align_content": null,
            "visibility": null,
            "align_self": null,
            "height": null,
            "min_height": null,
            "padding": null,
            "grid_auto_rows": null,
            "grid_gap": null,
            "max_width": null,
            "order": null,
            "_view_module_version": "1.2.0",
            "grid_template_areas": null,
            "object_position": null,
            "object_fit": null,
            "grid_auto_columns": null,
            "margin": null,
            "display": null,
            "left": null
          }
        },
        "1d42bed7eaec4bf18b63515e75a8c4dc": {
          "model_module": "@jupyter-widgets/controls",
          "model_name": "FloatProgressModel",
          "state": {
            "_view_name": "ProgressView",
            "style": "IPY_MODEL_aa8037af5cf94496b984516478315228",
            "_dom_classes": [],
            "description": "Downloading: 100%",
            "_model_name": "FloatProgressModel",
            "bar_style": "success",
            "max": 512,
            "_view_module": "@jupyter-widgets/controls",
            "_model_module_version": "1.5.0",
            "value": 512,
            "_view_count": null,
            "_view_module_version": "1.5.0",
            "orientation": "horizontal",
            "min": 0,
            "description_tooltip": null,
            "_model_module": "@jupyter-widgets/controls",
            "layout": "IPY_MODEL_6d8d7d2084c14737893c122b0fff95d6"
          }
        },
        "8244c6cb3f5746a681e809752bf460f1": {
          "model_module": "@jupyter-widgets/controls",
          "model_name": "HTMLModel",
          "state": {
            "_view_name": "HTMLView",
            "style": "IPY_MODEL_64e573fe62b0476eb3069d64f97fba72",
            "_dom_classes": [],
            "description": "",
            "_model_name": "HTMLModel",
            "placeholder": "​",
            "_view_module": "@jupyter-widgets/controls",
            "_model_module_version": "1.5.0",
            "value": " 512/512 [00:00&lt;00:00, 6.10kB/s]",
            "_view_count": null,
            "_view_module_version": "1.5.0",
            "description_tooltip": null,
            "_model_module": "@jupyter-widgets/controls",
            "layout": "IPY_MODEL_50251aa5be09439dba2b030d0582cb2b"
          }
        },
        "aa8037af5cf94496b984516478315228": {
          "model_module": "@jupyter-widgets/controls",
          "model_name": "ProgressStyleModel",
          "state": {
            "_view_name": "StyleView",
            "_model_name": "ProgressStyleModel",
            "description_width": "initial",
            "_view_module": "@jupyter-widgets/base",
            "_model_module_version": "1.5.0",
            "_view_count": null,
            "_view_module_version": "1.2.0",
            "bar_color": null,
            "_model_module": "@jupyter-widgets/controls"
          }
        },
        "6d8d7d2084c14737893c122b0fff95d6": {
          "model_module": "@jupyter-widgets/base",
          "model_name": "LayoutModel",
          "state": {
            "_view_name": "LayoutView",
            "grid_template_rows": null,
            "right": null,
            "justify_content": null,
            "_view_module": "@jupyter-widgets/base",
            "overflow": null,
            "_model_module_version": "1.2.0",
            "_view_count": null,
            "flex_flow": null,
            "width": null,
            "min_width": null,
            "border": null,
            "align_items": null,
            "bottom": null,
            "_model_module": "@jupyter-widgets/base",
            "top": null,
            "grid_column": null,
            "overflow_y": null,
            "overflow_x": null,
            "grid_auto_flow": null,
            "grid_area": null,
            "grid_template_columns": null,
            "flex": null,
            "_model_name": "LayoutModel",
            "justify_items": null,
            "grid_row": null,
            "max_height": null,
            "align_content": null,
            "visibility": null,
            "align_self": null,
            "height": null,
            "min_height": null,
            "padding": null,
            "grid_auto_rows": null,
            "grid_gap": null,
            "max_width": null,
            "order": null,
            "_view_module_version": "1.2.0",
            "grid_template_areas": null,
            "object_position": null,
            "object_fit": null,
            "grid_auto_columns": null,
            "margin": null,
            "display": null,
            "left": null
          }
        },
        "64e573fe62b0476eb3069d64f97fba72": {
          "model_module": "@jupyter-widgets/controls",
          "model_name": "DescriptionStyleModel",
          "state": {
            "_view_name": "StyleView",
            "_model_name": "DescriptionStyleModel",
            "description_width": "",
            "_view_module": "@jupyter-widgets/base",
            "_model_module_version": "1.5.0",
            "_view_count": null,
            "_view_module_version": "1.2.0",
            "_model_module": "@jupyter-widgets/controls"
          }
        },
        "50251aa5be09439dba2b030d0582cb2b": {
          "model_module": "@jupyter-widgets/base",
          "model_name": "LayoutModel",
          "state": {
            "_view_name": "LayoutView",
            "grid_template_rows": null,
            "right": null,
            "justify_content": null,
            "_view_module": "@jupyter-widgets/base",
            "overflow": null,
            "_model_module_version": "1.2.0",
            "_view_count": null,
            "flex_flow": null,
            "width": null,
            "min_width": null,
            "border": null,
            "align_items": null,
            "bottom": null,
            "_model_module": "@jupyter-widgets/base",
            "top": null,
            "grid_column": null,
            "overflow_y": null,
            "overflow_x": null,
            "grid_auto_flow": null,
            "grid_area": null,
            "grid_template_columns": null,
            "flex": null,
            "_model_name": "LayoutModel",
            "justify_items": null,
            "grid_row": null,
            "max_height": null,
            "align_content": null,
            "visibility": null,
            "align_self": null,
            "height": null,
            "min_height": null,
            "padding": null,
            "grid_auto_rows": null,
            "grid_gap": null,
            "max_width": null,
            "order": null,
            "_view_module_version": "1.2.0",
            "grid_template_areas": null,
            "object_position": null,
            "object_fit": null,
            "grid_auto_columns": null,
            "margin": null,
            "display": null,
            "left": null
          }
        },
        "5b4102945e024fa7a9b3713bb432113f": {
          "model_module": "@jupyter-widgets/controls",
          "model_name": "HBoxModel",
          "state": {
            "_view_name": "HBoxView",
            "_dom_classes": [],
            "_model_name": "HBoxModel",
            "_view_module": "@jupyter-widgets/controls",
            "_model_module_version": "1.5.0",
            "_view_count": null,
            "_view_module_version": "1.5.0",
            "box_style": "",
            "layout": "IPY_MODEL_273733bb1bfc40148b004b23b180d690",
            "_model_module": "@jupyter-widgets/controls",
            "children": [
              "IPY_MODEL_f75911ff83af4757abc2a1bd9933b1ce",
              "IPY_MODEL_034dba6cfd9e400f9ddadd55744a1f70"
            ]
          }
        },
        "273733bb1bfc40148b004b23b180d690": {
          "model_module": "@jupyter-widgets/base",
          "model_name": "LayoutModel",
          "state": {
            "_view_name": "LayoutView",
            "grid_template_rows": null,
            "right": null,
            "justify_content": null,
            "_view_module": "@jupyter-widgets/base",
            "overflow": null,
            "_model_module_version": "1.2.0",
            "_view_count": null,
            "flex_flow": null,
            "width": null,
            "min_width": null,
            "border": null,
            "align_items": null,
            "bottom": null,
            "_model_module": "@jupyter-widgets/base",
            "top": null,
            "grid_column": null,
            "overflow_y": null,
            "overflow_x": null,
            "grid_auto_flow": null,
            "grid_area": null,
            "grid_template_columns": null,
            "flex": null,
            "_model_name": "LayoutModel",
            "justify_items": null,
            "grid_row": null,
            "max_height": null,
            "align_content": null,
            "visibility": null,
            "align_self": null,
            "height": null,
            "min_height": null,
            "padding": null,
            "grid_auto_rows": null,
            "grid_gap": null,
            "max_width": null,
            "order": null,
            "_view_module_version": "1.2.0",
            "grid_template_areas": null,
            "object_position": null,
            "object_fit": null,
            "grid_auto_columns": null,
            "margin": null,
            "display": null,
            "left": null
          }
        },
        "f75911ff83af4757abc2a1bd9933b1ce": {
          "model_module": "@jupyter-widgets/controls",
          "model_name": "FloatProgressModel",
          "state": {
            "_view_name": "ProgressView",
            "style": "IPY_MODEL_67d2831df47b49d9a4e2910d19ac3a62",
            "_dom_classes": [],
            "description": "Downloading: 100%",
            "_model_name": "FloatProgressModel",
            "bar_style": "success",
            "max": 1115590446,
            "_view_module": "@jupyter-widgets/controls",
            "_model_module_version": "1.5.0",
            "value": 1115590446,
            "_view_count": null,
            "_view_module_version": "1.5.0",
            "orientation": "horizontal",
            "min": 0,
            "description_tooltip": null,
            "_model_module": "@jupyter-widgets/controls",
            "layout": "IPY_MODEL_8c1f448f0c9a497dae8f23c8a297081e"
          }
        },
        "034dba6cfd9e400f9ddadd55744a1f70": {
          "model_module": "@jupyter-widgets/controls",
          "model_name": "HTMLModel",
          "state": {
            "_view_name": "HTMLView",
            "style": "IPY_MODEL_f20b617923614288a83b60ec7245fbe4",
            "_dom_classes": [],
            "description": "",
            "_model_name": "HTMLModel",
            "placeholder": "​",
            "_view_module": "@jupyter-widgets/controls",
            "_model_module_version": "1.5.0",
            "value": " 1.12G/1.12G [00:25&lt;00:00, 43.4MB/s]",
            "_view_count": null,
            "_view_module_version": "1.5.0",
            "description_tooltip": null,
            "_model_module": "@jupyter-widgets/controls",
            "layout": "IPY_MODEL_f762da344665437092d6891c21135b3b"
          }
        },
        "67d2831df47b49d9a4e2910d19ac3a62": {
          "model_module": "@jupyter-widgets/controls",
          "model_name": "ProgressStyleModel",
          "state": {
            "_view_name": "StyleView",
            "_model_name": "ProgressStyleModel",
            "description_width": "initial",
            "_view_module": "@jupyter-widgets/base",
            "_model_module_version": "1.5.0",
            "_view_count": null,
            "_view_module_version": "1.2.0",
            "bar_color": null,
            "_model_module": "@jupyter-widgets/controls"
          }
        },
        "8c1f448f0c9a497dae8f23c8a297081e": {
          "model_module": "@jupyter-widgets/base",
          "model_name": "LayoutModel",
          "state": {
            "_view_name": "LayoutView",
            "grid_template_rows": null,
            "right": null,
            "justify_content": null,
            "_view_module": "@jupyter-widgets/base",
            "overflow": null,
            "_model_module_version": "1.2.0",
            "_view_count": null,
            "flex_flow": null,
            "width": null,
            "min_width": null,
            "border": null,
            "align_items": null,
            "bottom": null,
            "_model_module": "@jupyter-widgets/base",
            "top": null,
            "grid_column": null,
            "overflow_y": null,
            "overflow_x": null,
            "grid_auto_flow": null,
            "grid_area": null,
            "grid_template_columns": null,
            "flex": null,
            "_model_name": "LayoutModel",
            "justify_items": null,
            "grid_row": null,
            "max_height": null,
            "align_content": null,
            "visibility": null,
            "align_self": null,
            "height": null,
            "min_height": null,
            "padding": null,
            "grid_auto_rows": null,
            "grid_gap": null,
            "max_width": null,
            "order": null,
            "_view_module_version": "1.2.0",
            "grid_template_areas": null,
            "object_position": null,
            "object_fit": null,
            "grid_auto_columns": null,
            "margin": null,
            "display": null,
            "left": null
          }
        },
        "f20b617923614288a83b60ec7245fbe4": {
          "model_module": "@jupyter-widgets/controls",
          "model_name": "DescriptionStyleModel",
          "state": {
            "_view_name": "StyleView",
            "_model_name": "DescriptionStyleModel",
            "description_width": "",
            "_view_module": "@jupyter-widgets/base",
            "_model_module_version": "1.5.0",
            "_view_count": null,
            "_view_module_version": "1.2.0",
            "_model_module": "@jupyter-widgets/controls"
          }
        },
        "f762da344665437092d6891c21135b3b": {
          "model_module": "@jupyter-widgets/base",
          "model_name": "LayoutModel",
          "state": {
            "_view_name": "LayoutView",
            "grid_template_rows": null,
            "right": null,
            "justify_content": null,
            "_view_module": "@jupyter-widgets/base",
            "overflow": null,
            "_model_module_version": "1.2.0",
            "_view_count": null,
            "flex_flow": null,
            "width": null,
            "min_width": null,
            "border": null,
            "align_items": null,
            "bottom": null,
            "_model_module": "@jupyter-widgets/base",
            "top": null,
            "grid_column": null,
            "overflow_y": null,
            "overflow_x": null,
            "grid_auto_flow": null,
            "grid_area": null,
            "grid_template_columns": null,
            "flex": null,
            "_model_name": "LayoutModel",
            "justify_items": null,
            "grid_row": null,
            "max_height": null,
            "align_content": null,
            "visibility": null,
            "align_self": null,
            "height": null,
            "min_height": null,
            "padding": null,
            "grid_auto_rows": null,
            "grid_gap": null,
            "max_width": null,
            "order": null,
            "_view_module_version": "1.2.0",
            "grid_template_areas": null,
            "object_position": null,
            "object_fit": null,
            "grid_auto_columns": null,
            "margin": null,
            "display": null,
            "left": null
          }
        }
      }
    }
  },
  "cells": [
    {
      "cell_type": "markdown",
      "metadata": {
        "id": "lIHo-xMmVKOF"
      },
      "source": [
        "This is a colab tutorial on how to train, evaluate a custom NER model on the [GermEval14 dataset](https://sites.google.com/site/germeval2014ner/data), and how to load and use a custom pipeline with the trained NER model. The description of the training data format required by Trankit can be found [here](https://trankit.readthedocs.io/en/latest/training.html#training-a-named-entity-recognizer). \r\n",
        "\r\n",
        "This tutorial is made by [@mrshu](https://github.com/mrshu). Thank you for your contribution to Trankit."
      ]
    },
    {
      "cell_type": "markdown",
      "metadata": {
        "id": "HbSat8L7HH9m"
      },
      "source": [
        "## Install dependencies"
      ]
    },
    {
      "cell_type": "code",
      "metadata": {
        "colab": {
          "base_uri": "https://localhost:8080/"
        },
        "id": "EszygJLHSsci",
        "outputId": "70cc67c3-b37a-4e9d-df44-8ecef8ec1802"
      },
      "source": [
        "!pip install trankit"
      ],
      "execution_count": null,
      "outputs": [
        {
          "output_type": "stream",
          "text": [
            "Requirement already satisfied: trankit in /usr/local/lib/python3.6/dist-packages (0.3.5)\n",
            "Requirement already satisfied: torch>=1.6.0 in /usr/local/lib/python3.6/dist-packages (from trankit) (1.7.0+cu101)\n",
            "Requirement already satisfied: tqdm in /usr/local/lib/python3.6/dist-packages (from trankit) (4.41.1)\n",
            "Requirement already satisfied: protobuf in /usr/local/lib/python3.6/dist-packages (from trankit) (3.12.4)\n",
            "Requirement already satisfied: adapter-transformers>=1.0.1 in /usr/local/lib/python3.6/dist-packages (from trankit) (1.1.1)\n",
            "Requirement already satisfied: requests in /usr/local/lib/python3.6/dist-packages (from trankit) (2.23.0)\n",
            "Requirement already satisfied: numpy in /usr/local/lib/python3.6/dist-packages (from trankit) (1.19.5)\n",
            "Requirement already satisfied: typing-extensions in /usr/local/lib/python3.6/dist-packages (from torch>=1.6.0->trankit) (3.7.4.3)\n",
            "Requirement already satisfied: future in /usr/local/lib/python3.6/dist-packages (from torch>=1.6.0->trankit) (0.16.0)\n",
            "Requirement already satisfied: dataclasses in /usr/local/lib/python3.6/dist-packages (from torch>=1.6.0->trankit) (0.8)\n",
            "Requirement already satisfied: setuptools in /usr/local/lib/python3.6/dist-packages (from protobuf->trankit) (53.0.0)\n",
            "Requirement already satisfied: six>=1.9 in /usr/local/lib/python3.6/dist-packages (from protobuf->trankit) (1.15.0)\n",
            "Requirement already satisfied: packaging in /usr/local/lib/python3.6/dist-packages (from adapter-transformers>=1.0.1->trankit) (20.9)\n",
            "Requirement already satisfied: sacremoses in /usr/local/lib/python3.6/dist-packages (from adapter-transformers>=1.0.1->trankit) (0.0.43)\n",
            "Requirement already satisfied: regex!=2019.12.17 in /usr/local/lib/python3.6/dist-packages (from adapter-transformers>=1.0.1->trankit) (2019.12.20)\n",
            "Requirement already satisfied: sentencepiece==0.1.91 in /usr/local/lib/python3.6/dist-packages (from adapter-transformers>=1.0.1->trankit) (0.1.91)\n",
            "Requirement already satisfied: filelock in /usr/local/lib/python3.6/dist-packages (from adapter-transformers>=1.0.1->trankit) (3.0.12)\n",
            "Requirement already satisfied: tokenizers==0.9.3 in /usr/local/lib/python3.6/dist-packages (from adapter-transformers>=1.0.1->trankit) (0.9.3)\n",
            "Requirement already satisfied: certifi>=2017.4.17 in /usr/local/lib/python3.6/dist-packages (from requests->trankit) (2020.12.5)\n",
            "Requirement already satisfied: chardet<4,>=3.0.2 in /usr/local/lib/python3.6/dist-packages (from requests->trankit) (3.0.4)\n",
            "Requirement already satisfied: idna<3,>=2.5 in /usr/local/lib/python3.6/dist-packages (from requests->trankit) (2.10)\n",
            "Requirement already satisfied: urllib3!=1.25.0,!=1.25.1,<1.26,>=1.21.1 in /usr/local/lib/python3.6/dist-packages (from requests->trankit) (1.24.3)\n",
            "Requirement already satisfied: pyparsing>=2.0.2 in /usr/local/lib/python3.6/dist-packages (from packaging->adapter-transformers>=1.0.1->trankit) (2.4.7)\n",
            "Requirement already satisfied: joblib in /usr/local/lib/python3.6/dist-packages (from sacremoses->adapter-transformers>=1.0.1->trankit) (1.0.0)\n",
            "Requirement already satisfied: click in /usr/local/lib/python3.6/dist-packages (from sacremoses->adapter-transformers>=1.0.1->trankit) (7.1.2)\n"
          ],
          "name": "stdout"
        }
      ]
    },
    {
      "cell_type": "code",
      "metadata": {
        "colab": {
          "base_uri": "https://localhost:8080/"
        },
        "id": "sRs_DjyEVWbl",
        "outputId": "262580cd-a8ca-402e-dcff-a9da9cf7bb2f"
      },
      "source": [
        "!pip install git+https://github.com/giuliano-oliveira/gdown_folder.git"
      ],
      "execution_count": null,
      "outputs": [
        {
          "output_type": "stream",
          "text": [
            "Collecting git+https://github.com/giuliano-oliveira/gdown_folder.git\n",
            "  Cloning https://github.com/giuliano-oliveira/gdown_folder.git to /tmp/pip-req-build-nmqmpsm8\n",
            "  Running command git clone -q https://github.com/giuliano-oliveira/gdown_folder.git /tmp/pip-req-build-nmqmpsm8\n",
            "  Running command git submodule update --init --recursive -q\n",
            "  Installing build dependencies ... \u001b[?25l\u001b[?25hdone\n",
            "  Getting requirements to build wheel ... \u001b[?25l\u001b[?25hdone\n",
            "    Preparing wheel metadata ... \u001b[?25l\u001b[?25hdone\n",
            "Requirement already satisfied (use --upgrade to upgrade): gdown==3.12.2 from git+https://github.com/giuliano-oliveira/gdown_folder.git in /usr/local/lib/python3.6/dist-packages\n",
            "Requirement already satisfied: beautifulsoup4 in /usr/local/lib/python3.6/dist-packages (from gdown==3.12.2) (4.6.3)\n",
            "Requirement already satisfied: pathlib2 in /usr/local/lib/python3.6/dist-packages (from gdown==3.12.2) (2.3.5)\n",
            "Requirement already satisfied: six in /usr/local/lib/python3.6/dist-packages (from gdown==3.12.2) (1.15.0)\n",
            "Requirement already satisfied: future in /usr/local/lib/python3.6/dist-packages (from gdown==3.12.2) (0.16.0)\n",
            "Requirement already satisfied: filelock in /usr/local/lib/python3.6/dist-packages (from gdown==3.12.2) (3.0.12)\n",
            "Requirement already satisfied: requests[socks] in /usr/local/lib/python3.6/dist-packages (from gdown==3.12.2) (2.23.0)\n",
            "Requirement already satisfied: tqdm in /usr/local/lib/python3.6/dist-packages (from gdown==3.12.2) (4.41.1)\n",
            "Requirement already satisfied: urllib3!=1.25.0,!=1.25.1,<1.26,>=1.21.1 in /usr/local/lib/python3.6/dist-packages (from requests[socks]->gdown==3.12.2) (1.24.3)\n",
            "Requirement already satisfied: idna<3,>=2.5 in /usr/local/lib/python3.6/dist-packages (from requests[socks]->gdown==3.12.2) (2.10)\n",
            "Requirement already satisfied: chardet<4,>=3.0.2 in /usr/local/lib/python3.6/dist-packages (from requests[socks]->gdown==3.12.2) (3.0.4)\n",
            "Requirement already satisfied: certifi>=2017.4.17 in /usr/local/lib/python3.6/dist-packages (from requests[socks]->gdown==3.12.2) (2020.12.5)\n",
            "Requirement already satisfied: PySocks!=1.5.7,>=1.5.6; extra == \"socks\" in /usr/local/lib/python3.6/dist-packages (from requests[socks]->gdown==3.12.2) (1.7.1)\n",
            "Building wheels for collected packages: gdown\n",
            "  Building wheel for gdown (PEP 517) ... \u001b[?25l\u001b[?25hdone\n",
            "  Created wheel for gdown: filename=gdown-3.12.2-cp36-none-any.whl size=12112 sha256=d14c2f5cf1d978cb35c52f75be2ddc94a0d7277fbd5bac05ae618ac4be4aa2b2\n",
            "  Stored in directory: /tmp/pip-ephem-wheel-cache-j7zov6s3/wheels/fc/37/89/910840c8a847ce7bee7481d166339b71c5af5a7814ff5d0ad4\n",
            "Successfully built gdown\n"
          ],
          "name": "stdout"
        }
      ]
    },
    {
      "cell_type": "markdown",
      "metadata": {
        "id": "H_7yHPYoHPsU"
      },
      "source": [
        "### Prepare the data"
      ]
    },
    {
      "cell_type": "code",
      "metadata": {
        "id": "wn8AMgq2VsaJ"
      },
      "source": [
        "!mkdir -p \"/content/drive/MyDrive/german-ner-data/Data and Task Setup\""
      ],
      "execution_count": null,
      "outputs": []
    },
    {
      "cell_type": "code",
      "metadata": {
        "colab": {
          "base_uri": "https://localhost:8080/"
        },
        "id": "FbdTDNnIUGc5",
        "outputId": "c586a0e7-d4f1-4ee6-bfde-7f738c530247"
      },
      "source": [
        "!gdown https://drive.google.com/drive/folders/1kC0I2UGl2ltrluI9NqDjaQJGw5iliw_J --folder -O /content/drive/MyDrive/german-ner-data"
      ],
      "execution_count": null,
      "outputs": [
        {
          "output_type": "stream",
          "text": [
            "Retrieving folder list\n",
            "Processing file 13mk1icZHs3AGmxNDRFvTDAq_5o_ZdFe1 BenikovaBiemannReznicek_LREC2014_GermanNER.pdf\n",
            "Processing file 11cbt0Bj5DU6baoayxzLNMZxyMMshRzpn Clarin_NoSta-D_NER-AnnotationGuidelines.pdf\n",
            "Processing file 1ZfRcQThdtAR5PPRjIDtrVP7BtXSCUBbm NER-de-dev.tsv\n",
            "Processing file 187cTeQpuxRvWnu6uGJFobVODcjXSxR5c NER-de-test-unlabeled.tsv\n",
            "Processing file 1u9mb7kNJHWQCWyweMDRMuTFoOHOfeBTH NER-de-test.tsv\n",
            "Processing file 1Jjhbal535VVz2ap4v4r_rN1UEHTdLK5P NER-de-train.tsv\n",
            "Retrieving folder list completed\n",
            "Building directory structure\n",
            "Building directory structure completed\n",
            "Downloading...\n",
            "From: https://drive.google.com/uc?id=13mk1icZHs3AGmxNDRFvTDAq_5o_ZdFe1\n",
            "To: /content/drive/MyDrive/german-ner-data/Data and Task Setup/BenikovaBiemannReznicek_LREC2014_GermanNER.pdf\n",
            "100% 328k/328k [00:00<00:00, 12.4MB/s]\n",
            "Downloading...\n",
            "From: https://drive.google.com/uc?id=11cbt0Bj5DU6baoayxzLNMZxyMMshRzpn\n",
            "To: /content/drive/MyDrive/german-ner-data/Data and Task Setup/Clarin_NoSta-D_NER-AnnotationGuidelines.pdf\n",
            "100% 271k/271k [00:00<00:00, 9.43MB/s]\n",
            "Downloading...\n",
            "From: https://drive.google.com/uc?id=1ZfRcQThdtAR5PPRjIDtrVP7BtXSCUBbm\n",
            "To: /content/drive/MyDrive/german-ner-data/Data and Task Setup/NER-de-dev.tsv\n",
            "100% 724k/724k [00:00<00:00, 17.7MB/s]\n",
            "Downloading...\n",
            "From: https://drive.google.com/uc?id=187cTeQpuxRvWnu6uGJFobVODcjXSxR5c\n",
            "To: /content/drive/MyDrive/german-ner-data/Data and Task Setup/NER-de-test-unlabeled.tsv\n",
            "100% 1.25M/1.25M [00:00<00:00, 26.3MB/s]\n",
            "Downloading...\n",
            "From: https://drive.google.com/uc?id=1u9mb7kNJHWQCWyweMDRMuTFoOHOfeBTH\n",
            "To: /content/drive/MyDrive/german-ner-data/Data and Task Setup/NER-de-test.tsv\n",
            "100% 1.68M/1.68M [00:00<00:00, 35.5MB/s]\n",
            "Downloading...\n",
            "From: https://drive.google.com/uc?id=1Jjhbal535VVz2ap4v4r_rN1UEHTdLK5P\n",
            "To: /content/drive/MyDrive/german-ner-data/Data and Task Setup/NER-de-train.tsv\n",
            "7.88MB [00:00, 107MB/s]\n",
            "Download completed\n"
          ],
          "name": "stdout"
        }
      ]
    },
    {
      "cell_type": "code",
      "metadata": {
        "colab": {
          "base_uri": "https://localhost:8080/"
        },
        "id": "DNsJHsLSULq6",
        "outputId": "7547a1ae-1578-40ef-a818-439f0aa6c783"
      },
      "source": [
        "%cd \"/content/drive/MyDrive/german-ner-data/Data and Task Setup\""
      ],
      "execution_count": null,
      "outputs": [
        {
          "output_type": "stream",
          "text": [
            "/content/drive/MyDrive/german-ner-data/Data and Task Setup\n"
          ],
          "name": "stdout"
        }
      ]
    },
    {
      "cell_type": "code",
      "metadata": {
        "colab": {
          "base_uri": "https://localhost:8080/"
        },
        "id": "Em6YMRAbWBe1",
        "outputId": "f5082532-0916-44f1-8796-ddc5fb2c2d62"
      },
      "source": [
        "!ls"
      ],
      "execution_count": null,
      "outputs": [
        {
          "output_type": "stream",
          "text": [
            "BenikovaBiemannReznicek_LREC2014_GermanNER.pdf\tgerman.vocabs.json\n",
            "Clarin_NoSta-D_NER-AnnotationGuidelines.pdf\tgerman.zip\n",
            "german.downloaded\t\t\t\tNER-de-dev.tsv\n",
            "german_lemmatizer.pt\t\t\t\tNER-de-dev.tsv.filtered\n",
            "german_mwt_expander.pt\t\t\t\tNER-de-test.tsv\n",
            "german.ner.germeval14.mdl\t\t\tNER-de-test.tsv.filtered\n",
            "german.ner.mdl\t\t\t\t\tNER-de-test-unlabeled.tsv\n",
            "german.ner-vocab.germeval14.json\t\tNER-de-train.tsv\n",
            "german.ner-vocab.json\t\t\t\tNER-de-train.tsv.filtered\n",
            "german.tagger.mdl\t\t\t\tsave_dir_filtered\n",
            "german.tokenizer.mdl\n"
          ],
          "name": "stdout"
        }
      ]
    },
    {
      "cell_type": "code",
      "metadata": {
        "id": "5rY7ekqrCI5b"
      },
      "source": [
        "!cat NER-de-dev.tsv | grep -v '^\\#' | cut -f 2,3 | sed 's/[a-z]*$//' > NER-de-dev.tsv.filtered"
      ],
      "execution_count": null,
      "outputs": []
    },
    {
      "cell_type": "code",
      "metadata": {
        "id": "r85xVnOtCLgj"
      },
      "source": [
        "!cat NER-de-train.tsv | grep -v '^\\#' | cut -f 2,3 | sed 's/[a-z]*$//' > NER-de-train.tsv.filtered"
      ],
      "execution_count": null,
      "outputs": []
    },
    {
      "cell_type": "markdown",
      "metadata": {
        "id": "oJhr8AtgHUOP"
      },
      "source": [
        "## Run the training loop"
      ]
    },
    {
      "cell_type": "code",
      "metadata": {
        "colab": {
          "base_uri": "https://localhost:8080/",
          "height": 1000,
          "referenced_widgets": [
            "12f21fc8a594408ea8baf8ab1bbe2ee3",
            "669126bdcec542119684d1e37511c173",
            "5f805bc0f80942d2b7c99ec4eb4cdac9",
            "db760a38839946188d6493b8f086aa5c",
            "848e1246b33e4ad9b8ead37068ad71c4",
            "b10fd95ac478490288cc99c8e09895b9",
            "43a9e800a53d4c289c996058d24dc7cf",
            "3268fa43f79a473abc3288fb87e3dae7",
            "f7a11f7039794ffea893026d3d03e954",
            "df49b575376848d280fde0c2a57d2f3a",
            "1d42bed7eaec4bf18b63515e75a8c4dc",
            "8244c6cb3f5746a681e809752bf460f1",
            "aa8037af5cf94496b984516478315228",
            "6d8d7d2084c14737893c122b0fff95d6",
            "64e573fe62b0476eb3069d64f97fba72",
            "50251aa5be09439dba2b030d0582cb2b",
            "5b4102945e024fa7a9b3713bb432113f",
            "273733bb1bfc40148b004b23b180d690",
            "f75911ff83af4757abc2a1bd9933b1ce",
            "034dba6cfd9e400f9ddadd55744a1f70",
            "67d2831df47b49d9a4e2910d19ac3a62",
            "8c1f448f0c9a497dae8f23c8a297081e",
            "f20b617923614288a83b60ec7245fbe4",
            "f762da344665437092d6891c21135b3b"
          ]
        },
        "id": "51jTnhfoCS5W",
        "outputId": "64582a78-0c7f-4842-93d5-73ab413e9ba5"
      },
      "source": [
        "import trankit\n",
        "\n",
        "# initialize a trainer for the task\n",
        "trainer = trankit.TPipeline(\n",
        "    training_config={\n",
        "      'max_epoch': 7,\n",
        "      'category': 'customized-ner',  # pipeline category\n",
        "      'task': 'ner', # task name\n",
        "      'save_dir': './save_dir_filtered', # directory to save the trained model\n",
        "      'train_bio_fpath': './NER-de-train.tsv.filtered', # training data in BIO format\n",
        "      'dev_bio_fpath': './NER-de-dev.tsv.filtered' # training data in BIO format\n",
        "    }\n",
        ")\n",
        "\n",
        "# start training\n",
        "trainer.train()"
      ],
      "execution_count": null,
      "outputs": [
        {
          "output_type": "stream",
          "text": [
            "Setting up training config...\n"
          ],
          "name": "stdout"
        },
        {
          "output_type": "display_data",
          "data": {
            "application/vnd.jupyter.widget-view+json": {
              "model_id": "12f21fc8a594408ea8baf8ab1bbe2ee3",
              "version_minor": 0,
              "version_major": 2
            },
            "text/plain": [
              "HBox(children=(FloatProgress(value=0.0, description='Downloading', max=5069051.0, style=ProgressStyle(descript…"
            ]
          },
          "metadata": {
            "tags": []
          }
        },
        {
          "output_type": "stream",
          "text": [
            "\n",
            "Skipped 0 over-length examples\n",
            "Loaded 24000 examples\n",
            "Skipped 0 over-length examples\n",
            "Loaded 2200 examples\n"
          ],
          "name": "stdout"
        },
        {
          "output_type": "display_data",
          "data": {
            "application/vnd.jupyter.widget-view+json": {
              "model_id": "f7a11f7039794ffea893026d3d03e954",
              "version_minor": 0,
              "version_major": 2
            },
            "text/plain": [
              "HBox(children=(FloatProgress(value=0.0, description='Downloading', max=512.0, style=ProgressStyle(description_…"
            ]
          },
          "metadata": {
            "tags": []
          }
        },
        {
          "output_type": "stream",
          "text": [
            "\n"
          ],
          "name": "stdout"
        },
        {
          "output_type": "display_data",
          "data": {
            "application/vnd.jupyter.widget-view+json": {
              "model_id": "5b4102945e024fa7a9b3713bb432113f",
              "version_minor": 0,
              "version_major": 2
            },
            "text/plain": [
              "HBox(children=(FloatProgress(value=0.0, description='Downloading', max=1115590446.0, style=ProgressStyle(descr…"
            ]
          },
          "metadata": {
            "tags": []
          }
        },
        {
          "output_type": "stream",
          "text": [
            "\n"
          ],
          "name": "stdout"
        },
        {
          "output_type": "stream",
          "text": [
            "Train 0:   0%|                            | 1/1500 [00:00<04:32,  5.51it/s]"
          ],
          "name": "stderr"
        },
        {
          "output_type": "stream",
          "text": [
            "******************************\n",
            "NER: Epoch: 0\n"
          ],
          "name": "stdout"
        },
        {
          "output_type": "stream",
          "text": [
            "Train 0: 100%|█████████████████████████| 1500/1500 [03:23<00:00,  7.38it/s]\n",
            "dev 0: 100%|█████████████████████████████| 138/138 [00:09<00:00, 14.00it/s]\n",
            "Train 1:   0%|                            | 2/1500 [00:00<01:41, 14.80it/s]"
          ],
          "name": "stderr"
        },
        {
          "output_type": "stream",
          "text": [
            "Saving adapter weights to ... ./save_dir_filtered/customized-ner/customized-ner.ner.mdl (9.96 MB)\n",
            "------------------------------\n",
            "Best dev F1 score: epoch 0, F1: 72.59\n",
            "******************************\n",
            "NER: Epoch: 1\n"
          ],
          "name": "stdout"
        },
        {
          "output_type": "stream",
          "text": [
            "Train 1: 100%|█████████████████████████| 1500/1500 [03:29<00:00,  7.17it/s]\n",
            "dev 1: 100%|█████████████████████████████| 138/138 [00:09<00:00, 13.85it/s]\n",
            "Train 2:   0%|                            | 2/1500 [00:00<01:34, 15.92it/s]"
          ],
          "name": "stderr"
        },
        {
          "output_type": "stream",
          "text": [
            "Saving adapter weights to ... ./save_dir_filtered/customized-ner/customized-ner.ner.mdl (9.96 MB)\n",
            "------------------------------\n",
            "Best dev F1 score: epoch 1, F1: 81.34\n",
            "******************************\n",
            "NER: Epoch: 2\n"
          ],
          "name": "stdout"
        },
        {
          "output_type": "stream",
          "text": [
            "Train 2: 100%|█████████████████████████| 1500/1500 [03:31<00:00,  7.10it/s]\n",
            "dev 2: 100%|█████████████████████████████| 138/138 [00:10<00:00, 13.68it/s]\n",
            "Train 3:   0%|                            | 2/1500 [00:00<01:51, 13.44it/s]"
          ],
          "name": "stderr"
        },
        {
          "output_type": "stream",
          "text": [
            "Saving adapter weights to ... ./save_dir_filtered/customized-ner/customized-ner.ner.mdl (9.96 MB)\n",
            "------------------------------\n",
            "Best dev F1 score: epoch 2, F1: 83.12\n",
            "******************************\n",
            "NER: Epoch: 3\n"
          ],
          "name": "stdout"
        },
        {
          "output_type": "stream",
          "text": [
            "Train 3: 100%|█████████████████████████| 1500/1500 [03:31<00:00,  7.10it/s]\n",
            "dev 3: 100%|█████████████████████████████| 138/138 [00:10<00:00, 13.61it/s]\n",
            "Train 4:   0%|                            | 2/1500 [00:00<01:19, 18.85it/s]"
          ],
          "name": "stderr"
        },
        {
          "output_type": "stream",
          "text": [
            "Saving adapter weights to ... ./save_dir_filtered/customized-ner/customized-ner.ner.mdl (9.96 MB)\n",
            "------------------------------\n",
            "Best dev F1 score: epoch 3, F1: 84.61\n",
            "******************************\n",
            "NER: Epoch: 4\n"
          ],
          "name": "stdout"
        },
        {
          "output_type": "stream",
          "text": [
            "Train 4: 100%|█████████████████████████| 1500/1500 [03:30<00:00,  7.12it/s]\n",
            "dev 4: 100%|█████████████████████████████| 138/138 [00:10<00:00, 13.59it/s]\n",
            "Train 5:   0%|                            | 2/1500 [00:00<01:54, 13.03it/s]"
          ],
          "name": "stderr"
        },
        {
          "output_type": "stream",
          "text": [
            "Saving adapter weights to ... ./save_dir_filtered/customized-ner/customized-ner.ner.mdl (9.96 MB)\n",
            "------------------------------\n",
            "Best dev F1 score: epoch 4, F1: 85.17\n",
            "******************************\n",
            "NER: Epoch: 5\n"
          ],
          "name": "stdout"
        },
        {
          "output_type": "stream",
          "text": [
            "Train 5: 100%|█████████████████████████| 1500/1500 [03:32<00:00,  7.07it/s]\n",
            "dev 5: 100%|█████████████████████████████| 138/138 [00:10<00:00, 13.59it/s]\n",
            "Train 6:   0%|                                    | 0/1500 [00:00<?, ?it/s]"
          ],
          "name": "stderr"
        },
        {
          "output_type": "stream",
          "text": [
            "Saving adapter weights to ... ./save_dir_filtered/customized-ner/customized-ner.ner.mdl (9.96 MB)\n",
            "------------------------------\n",
            "Best dev F1 score: epoch 5, F1: 86.34\n",
            "******************************\n",
            "NER: Epoch: 6\n"
          ],
          "name": "stdout"
        },
        {
          "output_type": "stream",
          "text": [
            "Train 6: 100%|█████████████████████████| 1500/1500 [03:32<00:00,  7.04it/s]\n",
            "dev 6: 100%|█████████████████████████████| 138/138 [00:10<00:00, 13.52it/s]\n"
          ],
          "name": "stderr"
        },
        {
          "output_type": "stream",
          "text": [
            "Saving adapter weights to ... ./save_dir_filtered/customized-ner/customized-ner.ner.mdl (9.96 MB)\n",
            "------------------------------\n",
            "Best dev F1 score: epoch 6, F1: 86.77\n",
            "Training done!\n"
          ],
          "name": "stdout"
        }
      ]
    },
    {
      "cell_type": "code",
      "metadata": {
        "id": "LjAxZDd777Ud"
      },
      "source": [
        "!cat NER-de-test.tsv | grep -v '^\\#' | cut -f 2,3 | sed 's/[a-z]*$//' > NER-de-test.tsv.filtered"
      ],
      "execution_count": null,
      "outputs": []
    },
    {
      "cell_type": "code",
      "metadata": {
        "colab": {
          "base_uri": "https://localhost:8080/"
        },
        "id": "Df828S_N8Nnk",
        "outputId": "e28fba2d-942a-47e1-e371-b885b20d15d6"
      },
      "source": [
        "from trankit.iterators.ner_iterators import NERDataset\n",
        "test_set = NERDataset(\n",
        "    config=trainer._config,\n",
        "    bio_fpath='./NER-de-test.tsv.filtered',\n",
        "    evaluate=True\n",
        ")\n",
        "test_set.numberize()\n",
        "test_batch_num = len(test_set) // trainer._config.batch_size + (len(test_set) % trainer._config.batch_size != 0)\n",
        "result = trainer._eval_ner(data_set=test_set, batch_num=test_batch_num,\n",
        "                           name='test', epoch=-1)"
      ],
      "execution_count": null,
      "outputs": [
        {
          "output_type": "stream",
          "text": [
            "test -1:   1%|▏                            | 2/319 [00:00<00:15, 19.96it/s]"
          ],
          "name": "stderr"
        },
        {
          "output_type": "stream",
          "text": [
            "Skipped 0 over-length examples\n",
            "Loaded 5100 examples\n"
          ],
          "name": "stdout"
        },
        {
          "output_type": "stream",
          "text": [
            "test -1: 100%|███████████████████████████| 319/319 [00:24<00:00, 13.10it/s]\n"
          ],
          "name": "stderr"
        }
      ]
    },
    {
      "cell_type": "code",
      "metadata": {
        "colab": {
          "base_uri": "https://localhost:8080/"
        },
        "id": "IWn7fv9c9q8H",
        "outputId": "61a0fb32-c8d0-458c-ca11-a6b07346e326"
      },
      "source": [
        "print(result)"
      ],
      "execution_count": null,
      "outputs": [
        {
          "output_type": "stream",
          "text": [
            "{'p': 88.16627556151525, 'r': 85.14082227258012, 'f1': 86.62714097496706}\n"
          ],
          "name": "stdout"
        }
      ]
    },
    {
      "cell_type": "markdown",
      "metadata": {
        "id": "K9SaCcTjG877"
      },
      "source": [
        "## Running the trained model on the `test` set"
      ]
    },
    {
      "cell_type": "code",
      "metadata": {
        "id": "EtGj1ozAAcA1"
      },
      "source": [
        "!wget -q http://nlp.uoregon.edu/download/trankit/german.zip"
      ],
      "execution_count": null,
      "outputs": []
    },
    {
      "cell_type": "code",
      "metadata": {
        "colab": {
          "base_uri": "https://localhost:8080/"
        },
        "id": "Yiw8pCUHAnum",
        "outputId": "861ad18e-9446-4fe1-a1de-160c3372dd25"
      },
      "source": [
        "%%shell\n",
        "unzip -o german.zip"
      ],
      "execution_count": null,
      "outputs": [
        {
          "output_type": "stream",
          "text": [
            "Archive:  german.zip\n",
            " extracting: german.downloaded       \n",
            "  inflating: german_lemmatizer.pt    \n",
            "  inflating: german_mwt_expander.pt  \n",
            "  inflating: german.ner.germeval14.mdl  \n",
            "  inflating: german.ner.mdl          \n",
            "  inflating: german.ner-vocab.germeval14.json  \n",
            "  inflating: german.ner-vocab.json   \n",
            "  inflating: german.tagger.mdl       \n",
            "  inflating: german.tokenizer.mdl    \n",
            "  inflating: german.vocabs.json      \n"
          ],
          "name": "stdout"
        },
        {
          "output_type": "execute_result",
          "data": {
            "text/plain": [
              ""
            ]
          },
          "metadata": {
            "tags": []
          },
          "execution_count": 14
        }
      ]
    },
    {
      "cell_type": "code",
      "metadata": {
        "id": "CTIui3esBgh2"
      },
      "source": [
        "!cp -a german.tagger.mdl  ./save_dir_filtered/customized-ner/customized-ner.tagger.mdl\n",
        "!cp -a german.vocabs.json  ./save_dir_filtered/customized-ner/customized-ner.vocabs.json\n",
        "!cp -a german_lemmatizer.pt  ./save_dir_filtered/customized-ner/customized-ner_lemmatizer.pt\n",
        "!cp -a german.tokenizer.mdl  ./save_dir_filtered/customized-ner/customized-ner.tokenizer.mdl"
      ],
      "execution_count": null,
      "outputs": []
    },
    {
      "cell_type": "code",
      "metadata": {
        "colab": {
          "base_uri": "https://localhost:8080/"
        },
        "id": "FgIC5z-wEAij",
        "outputId": "5254a919-72e8-4e69-9c46-3f8ff30061ed"
      },
      "source": [
        "trankit.verify_customized_pipeline(\n",
        "    category='customized-ner', # pipeline category\n",
        "    save_dir='./save_dir_filtered' # directory used for saving models in previous steps\n",
        ")"
      ],
      "execution_count": null,
      "outputs": [
        {
          "output_type": "stream",
          "text": [
            "Customized pipeline is ready to use!\n",
            "It can be initialized as follows:\n",
            "-----------------------------------\n",
            "from trankit import Pipeline\n",
            "p = Pipeline(lang='customized-ner', cache_dir='./save_dir_filtered')\n"
          ],
          "name": "stdout"
        }
      ]
    },
    {
      "cell_type": "markdown",
      "metadata": {
        "id": "qkIKFw5OG0l7"
      },
      "source": [
        "## Using the pretrained model in a Pipeline"
      ]
    },
    {
      "cell_type": "code",
      "metadata": {
        "id": "td9K2NnvHCHy"
      },
      "source": [
        "from trankit import Pipeline"
      ],
      "execution_count": null,
      "outputs": []
    },
    {
      "cell_type": "code",
      "metadata": {
        "colab": {
          "base_uri": "https://localhost:8080/"
        },
        "id": "VyAE2Vc2HFB9",
        "outputId": "433e5447-7a5a-4777-9261-6e2983323fcd"
      },
      "source": [
        "p = Pipeline(lang='customized-ner', cache_dir='./save_dir_filtered')"
      ],
      "execution_count": null,
      "outputs": [
        {
          "output_type": "stream",
          "text": [
            "Loading pretrained XLM-Roberta, this may take a while...\n",
            "Loading tokenizer for customized-ner\n",
            "Loading tagger for customized-ner\n",
            "Loading lemmatizer for customized-ner\n",
            "Loading NER tagger for customized-ner\n",
            "==================================================\n",
            "Active language: customized-ner\n",
            "==================================================\n"
          ],
          "name": "stdout"
        }
      ]
    },
    {
      "cell_type": "code",
      "metadata": {
        "colab": {
          "base_uri": "https://localhost:8080/"
        },
        "id": "gMJAhFgxHv0K",
        "outputId": "7749774a-5a07-4faf-8e73-5fa46f4e80f7"
      },
      "source": [
        "p.ner('''Die 75 Kampfjets werden im englischen Hatfield hergestellt und 1949 in die Schweiz geflogen.''', is_sent=True)"
      ],
      "execution_count": null,
      "outputs": [
        {
          "output_type": "execute_result",
          "data": {
            "text/plain": [
              "{'text': 'Die 75 Kampfjets werden im englischen Hatfield hergestellt und 1949 in die Schweiz geflogen.',\n",
              " 'tokens': [{'id': 1, 'ner': 'O', 'span': (0, 3), 'text': 'Die'},\n",
              "  {'id': 2, 'ner': 'O', 'span': (4, 6), 'text': '75'},\n",
              "  {'id': 3, 'ner': 'O', 'span': (7, 16), 'text': 'Kampfjets'},\n",
              "  {'id': 4, 'ner': 'O', 'span': (17, 23), 'text': 'werden'},\n",
              "  {'MWT': 'Yes',\n",
              "   'id': 5,\n",
              "   'misc': 'MWT=Yes',\n",
              "   'ner': 'O',\n",
              "   'span': (24, 26),\n",
              "   'text': 'im'},\n",
              "  {'id': 6, 'ner': 'S-LOC', 'span': (27, 37), 'text': 'englischen'},\n",
              "  {'id': 7, 'ner': 'S-LOC', 'span': (38, 46), 'text': 'Hatfield'},\n",
              "  {'id': 8, 'ner': 'O', 'span': (47, 58), 'text': 'hergestellt'},\n",
              "  {'id': 9, 'ner': 'O', 'span': (59, 62), 'text': 'und'},\n",
              "  {'id': 10, 'ner': 'O', 'span': (63, 67), 'text': '1949'},\n",
              "  {'id': 11, 'ner': 'O', 'span': (68, 70), 'text': 'in'},\n",
              "  {'id': 12, 'ner': 'O', 'span': (71, 74), 'text': 'die'},\n",
              "  {'id': 13, 'ner': 'S-LOC', 'span': (75, 82), 'text': 'Schweiz'},\n",
              "  {'id': 14, 'ner': 'O', 'span': (83, 91), 'text': 'geflogen'},\n",
              "  {'id': 15, 'ner': 'O', 'span': (91, 92), 'text': '.'}]}"
            ]
          },
          "metadata": {
            "tags": []
          },
          "execution_count": 19
        }
      ]
    }
  ]
}